{
 "cells": [
  {
   "cell_type": "code",
   "execution_count": 2,
   "id": "b123033f",
   "metadata": {},
   "outputs": [],
   "source": [
    "import IPython\n",
    "import numpy as np\n",
    "import tvm\n",
    "from tvm.ir.module import IRModule\n",
    "from tvm.script import tir as T"
   ]
  },
  {
   "cell_type": "code",
   "execution_count": 3,
   "id": "60af64b4",
   "metadata": {},
   "outputs": [],
   "source": [
    "# init data\n",
    "a = np.arange(16).reshape(4, 4)\n",
    "b = np.arange(16, 0, -1).reshape(4, 4)"
   ]
  },
  {
   "cell_type": "code",
   "execution_count": 4,
   "id": "39addd2d",
   "metadata": {},
   "outputs": [
    {
     "data": {
      "text/plain": [
       "array([[16, 16, 16, 16],\n",
       "       [16, 16, 16, 16],\n",
       "       [16, 16, 16, 16],\n",
       "       [16, 16, 16, 16]])"
      ]
     },
     "execution_count": 4,
     "metadata": {},
     "output_type": "execute_result"
    }
   ],
   "source": [
    "# numpy version\n",
    "c_np = a + b\n",
    "c_np"
   ]
  },
  {
   "cell_type": "code",
   "execution_count": 5,
   "id": "8ec261db",
   "metadata": {},
   "outputs": [
    {
     "data": {
      "text/plain": [
       "array([[16, 16, 16, 16],\n",
       "       [16, 16, 16, 16],\n",
       "       [16, 16, 16, 16],\n",
       "       [16, 16, 16, 16]])"
      ]
     },
     "execution_count": 5,
     "metadata": {},
     "output_type": "execute_result"
    }
   ],
   "source": [
    "# low-level numpy version\n",
    "def lnumpy_add(a: np.ndarray, b: np.ndarray, c: np.ndarray):\n",
    "\tfor i in range(4):\n",
    "\t\tfor j in range (4):\n",
    "\t\t\tc[i, j] = a[i, j] + b[i, j]\n",
    "c_lnumpy = np.empty((4, 4), dtype=np.int64)\n",
    "lnumpy_add(a, b, c_lnumpy)\n",
    "c_lnumpy"
   ]
  },
  {
   "cell_type": "code",
   "execution_count": null,
   "id": "9d548f99",
   "metadata": {},
   "outputs": [],
   "source": [
    "# TensorIR version\n",
    "@tvm.script.ir_module\n",
    "class MyAdd:\n",
    "\t@T.prim_func\n",
    "\tdef add(A: T.Buffer((4, 4), \"int64\"), # type: ignore\n",
    "\t\t\tB: T.Buffer((4, 4), \"int64\"), # type: ignore\n",
    "\t\t\tC: T.Buffer((4, 4), \"int64\")): # type: ignore\n",
    "\t\tT.func_attr({\"global_symbol\": \"add\"})\n",
    "\t\tfor i, j in T.grid(4, 4):\n",
    "\t\t\twith T.block(\"C\"):\n",
    "\t\t\t\tvi = T.axis.spatial(4, i)\n",
    "\t\t\t\tvj = T.axis.spatial(4, j)\n",
    "\t\t\t\tC[vi, vj] = A[vi, vj] + B[vi, vj]\n",
    "\n",
    "rt_lib = tvm.build(MyAdd, target=\"llvm\")\n",
    "a_tvm = tvm.nd.array(a)\n",
    "b_tvm = tvm.nd.array(b)\n",
    "c_tvm = tvm.nd.array(np.empty((4, 4), dtype=np.int64))\n",
    "rt_lib[\"add\"](a_tvm, b_tvm, c_tvm)\n",
    "np.testing.assert_allclose(c_tvm.numpy(), c_np, rtol=1e-5)"
   ]
  },
  {
   "cell_type": "code",
   "execution_count": 13,
   "id": "b1d5bef5",
   "metadata": {},
   "outputs": [
    {
     "data": {
      "text/plain": [
       "(4,)"
      ]
     },
     "execution_count": 13,
     "metadata": {},
     "output_type": "execute_result"
    }
   ],
   "source": [
    "# init data\n",
    "a = np.arange(16).reshape(4, 4)\n",
    "b = np.arange(4, 0, -1).reshape(4)"
   ]
  },
  {
   "cell_type": "code",
   "execution_count": 9,
   "id": "3f452a56",
   "metadata": {},
   "outputs": [
    {
     "data": {
      "text/plain": [
       "array([[ 4,  4,  4,  4],\n",
       "       [ 8,  8,  8,  8],\n",
       "       [12, 12, 12, 12],\n",
       "       [16, 16, 16, 16]])"
      ]
     },
     "execution_count": 9,
     "metadata": {},
     "output_type": "execute_result"
    }
   ],
   "source": [
    "# numpy version\n",
    "c_np = a + b\n",
    "c_np"
   ]
  },
  {
   "cell_type": "code",
   "execution_count": null,
   "id": "7496f97a",
   "metadata": {},
   "outputs": [],
   "source": [
    "@tvm.script.ir_module\n",
    "class MyAdd:\n",
    "\t@T.prim_func\n",
    "\tdef add(A: T.Buffer((4, 4), \"int64\"), # type: ignore\n",
    "\t\t\tB: T.Buffer((4,), \"int64\"), # type: ignore\n",
    "\t\t\tC: T.Buffer((4, 4), \"int64\")): # type: ignore\n",
    "\t\tT.func_attr({\"global_symbol\": \"add\", \"tri.noalias\": True}) # type: ignore\n",
    "\t\tfor i, j in T.grid(4, 4):\n",
    "\t\t\twith T.block(\"C\"):\n",
    "\t\t\t\tvi = T.axis.spatial(4, i)\n",
    "\t\t\t\tvj = T.axis.spatial(4, j)\n",
    "\t\t\t\tC[vi, vj] = A[vi, vj] + B[vj]\n",
    "\n",
    "rt_lib = tvm.build(MyAdd, target=\"llvm\")\n",
    "a_tvm = tvm.nd.array(a)\n",
    "b_tvm = tvm.nd.array(b)\n",
    "c_tvm = tvm.nd.array(np.empty((4, 4), dtype=np.int64))\n",
    "rt_lib[\"add\"](a_tvm, b_tvm, c_tvm)\n",
    "np.testing.assert_allclose(c_tvm.numpy(), c_np, rtol=1e-5)"
   ]
  },
  {
   "cell_type": "code",
   "execution_count": 17,
   "id": "a6282b94",
   "metadata": {},
   "outputs": [],
   "source": [
    "N, CI, H, W, CO, K = 1, 1, 8, 8, 2, 3\n",
    "OUT_H, OUT_W = H - K + 1, W - K + 1\n",
    "data = np.arange(N*CI*H*W).reshape(N, CI, H, W)\n",
    "weight = np.arange(CO*CI*K*K).reshape(CO, CI, K, K)"
   ]
  },
  {
   "cell_type": "code",
   "execution_count": 40,
   "id": "d8f79190",
   "metadata": {},
   "outputs": [
    {
     "data": {
      "text/plain": [
       "array([[[[ 474,  510,  546,  582,  618,  654],\n",
       "         [ 762,  798,  834,  870,  906,  942],\n",
       "         [1050, 1086, 1122, 1158, 1194, 1230],\n",
       "         [1338, 1374, 1410, 1446, 1482, 1518],\n",
       "         [1626, 1662, 1698, 1734, 1770, 1806],\n",
       "         [1914, 1950, 1986, 2022, 2058, 2094]],\n",
       "\n",
       "        [[1203, 1320, 1437, 1554, 1671, 1788],\n",
       "         [2139, 2256, 2373, 2490, 2607, 2724],\n",
       "         [3075, 3192, 3309, 3426, 3543, 3660],\n",
       "         [4011, 4128, 4245, 4362, 4479, 4596],\n",
       "         [4947, 5064, 5181, 5298, 5415, 5532],\n",
       "         [5883, 6000, 6117, 6234, 6351, 6468]]]])"
      ]
     },
     "execution_count": 40,
     "metadata": {},
     "output_type": "execute_result"
    }
   ],
   "source": [
    "# torch version\n",
    "import torch\n",
    "\n",
    "data_torch = torch.Tensor(data)\n",
    "weight_torch = torch.Tensor(weight)\n",
    "conv_torch = torch.nn.functional.conv2d(data_torch, weight_torch)\n",
    "conv_torch = conv_torch.numpy().astype(np.int64)\n",
    "conv_torch"
   ]
  },
  {
   "cell_type": "code",
   "execution_count": null,
   "id": "4f34d684",
   "metadata": {},
   "outputs": [],
   "source": [
    "@tvm.script.ir_module\n",
    "class MyConv:\n",
    "\t@T.prim_func\n",
    "\tdef conv(Input: T.Buffer((N, CI, H, W), \"int64\"), # type: ignore\n",
    "\t\t\t Weight: T.Buffer((CO, CI, K, K), \"int64\"), # type: ignore\n",
    "\t\t\t Output: T.Buffer((N, CO, OUT_H, OUT_W), \"int64\")): # type: ignore\n",
    "\t\tT.func_attr({\"global_symbol\": \"conv\", \"tri.noalias\": True}) # type: ignore\n",
    "\t\tfor b, k, q, h, w, i, j in T.grid(N, CO, CI, OUT_H, OUT_W, K, K):\n",
    "\t\t\twith T.block(\"Output\"):\n",
    "\t\t\t\tvb = T.axis.spatial(N, b)\n",
    "\t\t\t\tvk = T.axis.spatial(CO, k)\n",
    "\t\t\t\tvq = T.axis.reduce(CI, q)\n",
    "\t\t\t\tvh = T.axis.spatial(OUT_H, h)\n",
    "\t\t\t\tvw = T.axis.spatial(OUT_W, w)\n",
    "\t\t\t\tvi = T.axis.reduce(K, i)\n",
    "\t\t\t\tvj = T.axis.reduce(K, j)\n",
    "\t\t\t\twith T.init():\n",
    "\t\t\t\t\tOutput[vb, vk, vh, vw] = T.int64(0)\n",
    "\t\t\t\tOutput[vb, vk, vh, vw] += Input[vb, vq, vh + vi, vw + vj] * Weight[vk, vq, vi, vj]\n",
    "\n",
    "rt_lib = tvm.build(MyConv, target=\"llvm\")\n",
    "data_tvm = tvm.nd.array(data)\n",
    "weight_tvm = tvm.nd.array(weight)\n",
    "conv_tvm = tvm.nd.array(np.empty((N, CO, OUT_H, OUT_W), dtype=np.int64))\n",
    "rt_lib[\"conv\"](data_tvm, weight_tvm, conv_tvm)\n",
    "np.testing.assert_allclose(conv_tvm.numpy(), conv_torch, rtol=1e-5)"
   ]
  },
  {
   "cell_type": "code",
   "execution_count": null,
   "id": "e964be65",
   "metadata": {},
   "outputs": [],
   "source": [
    "def code2html(code):\n",
    "\t\"\"\"Helper function to use pygments to turn the code string into highlighted html.\"\"\"\n",
    "\timport pygments\n",
    "\tfrom pygments.lexers import Python3Lexer\n",
    "\tfrom pygments.formatters import HtmlFormatter\n",
    "\tformatter = HtmlFormatter(style=\"github-dark\")\n",
    "\thtml = pygments.highlight(code, Python3Lexer(), formatter)\n",
    "\treturn \"<style>%s</style>%s\\n\" % (formatter.get_style_defs(\".highlight\"), html)"
   ]
  },
  {
   "cell_type": "code",
   "execution_count": 199,
   "id": "fd731592",
   "metadata": {},
   "outputs": [
    {
     "name": "stdout",
     "output_type": "stream",
     "text": [
      "['abap', 'algol', 'algol_nu', 'arduino', 'autumn', 'bw', 'borland', 'coffee', 'colorful', 'default', 'dracula', 'emacs', 'friendly_grayscale', 'friendly', 'fruity', 'github-dark', 'gruvbox-dark', 'gruvbox-light', 'igor', 'inkpot', 'lightbulb', 'lilypond', 'lovelace', 'manni', 'material', 'monokai', 'murphy', 'native', 'nord-darker', 'nord', 'one-dark', 'paraiso-dark', 'paraiso-light', 'pastie', 'perldoc', 'rainbow_dash', 'rrt', 'sas', 'solarized-dark', 'solarized-light', 'staroffice', 'stata-dark', 'stata-light', 'tango', 'trac', 'vim', 'vs', 'xcode', 'zenburn']\n"
     ]
    }
   ],
   "source": [
    "from pygments.styles import get_all_styles\n",
    "\n",
    "print(list(get_all_styles()))"
   ]
  },
  {
   "cell_type": "code",
   "execution_count": 79,
   "id": "07fcec0f",
   "metadata": {},
   "outputs": [
    {
     "data": {
      "text/html": [
       "<style>pre { line-height: 125%; }\n",
       "td.linenos .normal { color: #6e7681; background-color: #0d1117; padding-left: 5px; padding-right: 5px; }\n",
       "span.linenos { color: #6e7681; background-color: #0d1117; padding-left: 5px; padding-right: 5px; }\n",
       "td.linenos .special { color: #e6edf3; background-color: #6e7681; padding-left: 5px; padding-right: 5px; }\n",
       "span.linenos.special { color: #e6edf3; background-color: #6e7681; padding-left: 5px; padding-right: 5px; }\n",
       ".highlight .hll { background-color: #6e7681 }\n",
       ".highlight { background: #0d1117; color: #E6EDF3 }\n",
       ".highlight .c { color: #8B949E; font-style: italic } /* Comment */\n",
       ".highlight .err { color: #F85149 } /* Error */\n",
       ".highlight .esc { color: #E6EDF3 } /* Escape */\n",
       ".highlight .g { color: #E6EDF3 } /* Generic */\n",
       ".highlight .k { color: #FF7B72 } /* Keyword */\n",
       ".highlight .l { color: #A5D6FF } /* Literal */\n",
       ".highlight .n { color: #E6EDF3 } /* Name */\n",
       ".highlight .o { color: #FF7B72; font-weight: bold } /* Operator */\n",
       ".highlight .x { color: #E6EDF3 } /* Other */\n",
       ".highlight .p { color: #E6EDF3 } /* Punctuation */\n",
       ".highlight .ch { color: #8B949E; font-style: italic } /* Comment.Hashbang */\n",
       ".highlight .cm { color: #8B949E; font-style: italic } /* Comment.Multiline */\n",
       ".highlight .cp { color: #8B949E; font-weight: bold; font-style: italic } /* Comment.Preproc */\n",
       ".highlight .cpf { color: #8B949E; font-style: italic } /* Comment.PreprocFile */\n",
       ".highlight .c1 { color: #8B949E; font-style: italic } /* Comment.Single */\n",
       ".highlight .cs { color: #8B949E; font-weight: bold; font-style: italic } /* Comment.Special */\n",
       ".highlight .gd { color: #FFA198; background-color: #490202 } /* Generic.Deleted */\n",
       ".highlight .ge { color: #E6EDF3; font-style: italic } /* Generic.Emph */\n",
       ".highlight .ges { color: #E6EDF3; font-weight: bold; font-style: italic } /* Generic.EmphStrong */\n",
       ".highlight .gr { color: #FFA198 } /* Generic.Error */\n",
       ".highlight .gh { color: #79C0FF; font-weight: bold } /* Generic.Heading */\n",
       ".highlight .gi { color: #56D364; background-color: #0F5323 } /* Generic.Inserted */\n",
       ".highlight .go { color: #8B949E } /* Generic.Output */\n",
       ".highlight .gp { color: #8B949E } /* Generic.Prompt */\n",
       ".highlight .gs { color: #E6EDF3; font-weight: bold } /* Generic.Strong */\n",
       ".highlight .gu { color: #79C0FF } /* Generic.Subheading */\n",
       ".highlight .gt { color: #FF7B72 } /* Generic.Traceback */\n",
       ".highlight .g-Underline { color: #E6EDF3; text-decoration: underline } /* Generic.Underline */\n",
       ".highlight .kc { color: #79C0FF } /* Keyword.Constant */\n",
       ".highlight .kd { color: #FF7B72 } /* Keyword.Declaration */\n",
       ".highlight .kn { color: #FF7B72 } /* Keyword.Namespace */\n",
       ".highlight .kp { color: #79C0FF } /* Keyword.Pseudo */\n",
       ".highlight .kr { color: #FF7B72 } /* Keyword.Reserved */\n",
       ".highlight .kt { color: #FF7B72 } /* Keyword.Type */\n",
       ".highlight .ld { color: #79C0FF } /* Literal.Date */\n",
       ".highlight .m { color: #A5D6FF } /* Literal.Number */\n",
       ".highlight .s { color: #A5D6FF } /* Literal.String */\n",
       ".highlight .na { color: #E6EDF3 } /* Name.Attribute */\n",
       ".highlight .nb { color: #E6EDF3 } /* Name.Builtin */\n",
       ".highlight .nc { color: #F0883E; font-weight: bold } /* Name.Class */\n",
       ".highlight .no { color: #79C0FF; font-weight: bold } /* Name.Constant */\n",
       ".highlight .nd { color: #D2A8FF; font-weight: bold } /* Name.Decorator */\n",
       ".highlight .ni { color: #FFA657 } /* Name.Entity */\n",
       ".highlight .ne { color: #F0883E; font-weight: bold } /* Name.Exception */\n",
       ".highlight .nf { color: #D2A8FF; font-weight: bold } /* Name.Function */\n",
       ".highlight .nl { color: #79C0FF; font-weight: bold } /* Name.Label */\n",
       ".highlight .nn { color: #FF7B72 } /* Name.Namespace */\n",
       ".highlight .nx { color: #E6EDF3 } /* Name.Other */\n",
       ".highlight .py { color: #79C0FF } /* Name.Property */\n",
       ".highlight .nt { color: #7EE787 } /* Name.Tag */\n",
       ".highlight .nv { color: #79C0FF } /* Name.Variable */\n",
       ".highlight .ow { color: #FF7B72; font-weight: bold } /* Operator.Word */\n",
       ".highlight .pm { color: #E6EDF3 } /* Punctuation.Marker */\n",
       ".highlight .w { color: #6E7681 } /* Text.Whitespace */\n",
       ".highlight .mb { color: #A5D6FF } /* Literal.Number.Bin */\n",
       ".highlight .mf { color: #A5D6FF } /* Literal.Number.Float */\n",
       ".highlight .mh { color: #A5D6FF } /* Literal.Number.Hex */\n",
       ".highlight .mi { color: #A5D6FF } /* Literal.Number.Integer */\n",
       ".highlight .mo { color: #A5D6FF } /* Literal.Number.Oct */\n",
       ".highlight .sa { color: #79C0FF } /* Literal.String.Affix */\n",
       ".highlight .sb { color: #A5D6FF } /* Literal.String.Backtick */\n",
       ".highlight .sc { color: #A5D6FF } /* Literal.String.Char */\n",
       ".highlight .dl { color: #79C0FF } /* Literal.String.Delimiter */\n",
       ".highlight .sd { color: #A5D6FF } /* Literal.String.Doc */\n",
       ".highlight .s2 { color: #A5D6FF } /* Literal.String.Double */\n",
       ".highlight .se { color: #79C0FF } /* Literal.String.Escape */\n",
       ".highlight .sh { color: #79C0FF } /* Literal.String.Heredoc */\n",
       ".highlight .si { color: #A5D6FF } /* Literal.String.Interpol */\n",
       ".highlight .sx { color: #A5D6FF } /* Literal.String.Other */\n",
       ".highlight .sr { color: #79C0FF } /* Literal.String.Regex */\n",
       ".highlight .s1 { color: #A5D6FF } /* Literal.String.Single */\n",
       ".highlight .ss { color: #A5D6FF } /* Literal.String.Symbol */\n",
       ".highlight .bp { color: #E6EDF3 } /* Name.Builtin.Pseudo */\n",
       ".highlight .fm { color: #D2A8FF; font-weight: bold } /* Name.Function.Magic */\n",
       ".highlight .vc { color: #79C0FF } /* Name.Variable.Class */\n",
       ".highlight .vg { color: #79C0FF } /* Name.Variable.Global */\n",
       ".highlight .vi { color: #79C0FF } /* Name.Variable.Instance */\n",
       ".highlight .vm { color: #79C0FF } /* Name.Variable.Magic */\n",
       ".highlight .il { color: #A5D6FF } /* Literal.Number.Integer.Long */</style><div class=\"highlight\"><pre><span></span><span class=\"c1\"># from tvm.script import ir as I</span>\n",
       "<span class=\"c1\"># from tvm.script import tir as T</span>\n",
       "\n",
       "<span class=\"nd\">@I</span><span class=\"o\">.</span><span class=\"n\">ir_module</span>\n",
       "<span class=\"k\">class</span><span class=\"w\"> </span><span class=\"nc\">Module</span><span class=\"p\">:</span>\n",
       "    <span class=\"nd\">@T</span><span class=\"o\">.</span><span class=\"n\">prim_func</span>\n",
       "    <span class=\"k\">def</span><span class=\"w\"> </span><span class=\"nf\">add</span><span class=\"p\">(</span><span class=\"n\">A</span><span class=\"p\">:</span> <span class=\"n\">T</span><span class=\"o\">.</span><span class=\"n\">Buffer</span><span class=\"p\">((</span><span class=\"mi\">4</span><span class=\"p\">,</span> <span class=\"mi\">4</span><span class=\"p\">),</span> <span class=\"s2\">&quot;int64&quot;</span><span class=\"p\">),</span> <span class=\"n\">B</span><span class=\"p\">:</span> <span class=\"n\">T</span><span class=\"o\">.</span><span class=\"n\">Buffer</span><span class=\"p\">((</span><span class=\"mi\">4</span><span class=\"p\">,</span> <span class=\"mi\">4</span><span class=\"p\">),</span> <span class=\"s2\">&quot;int64&quot;</span><span class=\"p\">),</span> <span class=\"n\">C</span><span class=\"p\">:</span> <span class=\"n\">T</span><span class=\"o\">.</span><span class=\"n\">Buffer</span><span class=\"p\">((</span><span class=\"mi\">4</span><span class=\"p\">,</span> <span class=\"mi\">4</span><span class=\"p\">),</span> <span class=\"s2\">&quot;int64&quot;</span><span class=\"p\">)):</span>\n",
       "        <span class=\"c1\"># with T.block(&quot;root&quot;):</span>\n",
       "        <span class=\"k\">for</span> <span class=\"n\">i_0</span> <span class=\"ow\">in</span> <span class=\"n\">T</span><span class=\"o\">.</span><span class=\"n\">parallel</span><span class=\"p\">(</span><span class=\"mi\">2</span><span class=\"p\">):</span>\n",
       "            <span class=\"k\">for</span> <span class=\"n\">i_1</span> <span class=\"ow\">in</span> <span class=\"n\">T</span><span class=\"o\">.</span><span class=\"n\">unroll</span><span class=\"p\">(</span><span class=\"mi\">2</span><span class=\"p\">):</span>\n",
       "                <span class=\"k\">for</span> <span class=\"n\">j</span> <span class=\"ow\">in</span> <span class=\"n\">T</span><span class=\"o\">.</span><span class=\"n\">vectorized</span><span class=\"p\">(</span><span class=\"mi\">4</span><span class=\"p\">):</span>\n",
       "                    <span class=\"k\">with</span> <span class=\"n\">T</span><span class=\"o\">.</span><span class=\"n\">block</span><span class=\"p\">(</span><span class=\"s2\">&quot;C&quot;</span><span class=\"p\">):</span>\n",
       "                        <span class=\"n\">vi</span> <span class=\"o\">=</span> <span class=\"n\">T</span><span class=\"o\">.</span><span class=\"n\">axis</span><span class=\"o\">.</span><span class=\"n\">spatial</span><span class=\"p\">(</span><span class=\"mi\">4</span><span class=\"p\">,</span> <span class=\"n\">i_0</span> <span class=\"o\">*</span> <span class=\"mi\">2</span> <span class=\"o\">+</span> <span class=\"n\">i_1</span><span class=\"p\">)</span>\n",
       "                        <span class=\"n\">vj</span> <span class=\"o\">=</span> <span class=\"n\">T</span><span class=\"o\">.</span><span class=\"n\">axis</span><span class=\"o\">.</span><span class=\"n\">spatial</span><span class=\"p\">(</span><span class=\"mi\">4</span><span class=\"p\">,</span> <span class=\"n\">j</span><span class=\"p\">)</span>\n",
       "                        <span class=\"n\">T</span><span class=\"o\">.</span><span class=\"n\">reads</span><span class=\"p\">(</span><span class=\"n\">A</span><span class=\"p\">[</span><span class=\"n\">vi</span><span class=\"p\">,</span> <span class=\"n\">vj</span><span class=\"p\">],</span> <span class=\"n\">B</span><span class=\"p\">[</span><span class=\"n\">vi</span><span class=\"p\">,</span> <span class=\"n\">vj</span><span class=\"p\">])</span>\n",
       "                        <span class=\"n\">T</span><span class=\"o\">.</span><span class=\"n\">writes</span><span class=\"p\">(</span><span class=\"n\">C</span><span class=\"p\">[</span><span class=\"n\">vi</span><span class=\"p\">,</span> <span class=\"n\">vj</span><span class=\"p\">])</span>\n",
       "                        <span class=\"n\">C</span><span class=\"p\">[</span><span class=\"n\">vi</span><span class=\"p\">,</span> <span class=\"n\">vj</span><span class=\"p\">]</span> <span class=\"o\">=</span> <span class=\"n\">A</span><span class=\"p\">[</span><span class=\"n\">vi</span><span class=\"p\">,</span> <span class=\"n\">vj</span><span class=\"p\">]</span> <span class=\"o\">+</span> <span class=\"n\">B</span><span class=\"p\">[</span><span class=\"n\">vi</span><span class=\"p\">,</span> <span class=\"n\">vj</span><span class=\"p\">]</span>\n",
       "</pre></div>\n",
       "\n"
      ],
      "text/plain": [
       "<IPython.core.display.HTML object>"
      ]
     },
     "execution_count": 79,
     "metadata": {},
     "output_type": "execute_result"
    }
   ],
   "source": [
    "@tvm.script.ir_module\n",
    "class MyAdd:\n",
    "\t@T.prim_func\n",
    "\tdef add(A: T.Buffer((4, 4), \"int64\"), # type: ignore\n",
    "\t\t\tB: T.Buffer((4, 4), \"int64\"), # type: ignore\n",
    "\t\t\tC: T.Buffer((4, 4), \"int64\")): # type: ignore\n",
    "\t\tT.func_attr({\"global_symbol\": \"add\"})\n",
    "\t\tfor i, j in T.grid(4, 4):\n",
    "\t\t\twith T.block(\"C\"):\n",
    "\t\t\t\tvi = T.axis.spatial(4, i)\n",
    "\t\t\t\tvj = T.axis.spatial(4, j)\n",
    "\t\t\t\tC[vi, vj] = A[vi, vj] + B[vi, vj]\n",
    "\n",
    "sch = tvm.tir.Schedule(MyAdd)\n",
    "block = sch.get_block(\"C\", func_name=\"add\")\n",
    "i, j = sch.get_loops(block)\n",
    "i0, i1 = sch.split(i, factors=[2, 2])\n",
    "sch.parallel(i0)\n",
    "sch.unroll(i1)\n",
    "sch.vectorize(j)\n",
    "IPython.display.HTML(code2html(sch.mod.script()))"
   ]
  },
  {
   "cell_type": "code",
   "execution_count": null,
   "id": "5586f50c",
   "metadata": {},
   "outputs": [],
   "source": [
    "def lnumpy_mm_relu_v2(A: np.ndarray, B: np.ndarray, C: np.ndarray):\n",
    "\tY = np.empty((16, 128, 128), dtype=\"float32\")\n",
    "\tfor n in range(16):\n",
    "\t\tfor i in range(128):\n",
    "\t\t\tfor j in range(128):\n",
    "\t\t\t\tfor k in range(128):\n",
    "\t\t\t\t\tif k == 0:\n",
    "\t\t\t\t\t\tY[n, i, j] = 0\n",
    "\t\t\t\t\tY[n, i, j] = Y[n, i, j] + A[n, i, k] * B[n, k, j]\n",
    "\tfor n in range(16):\n",
    "\t\tfor i in range(128):\n",
    "\t\t\tfor j in range(128):\n",
    "\t\t\t\tC[n, i, j] = max(Y[n, i, j], 0)"
   ]
  },
  {
   "cell_type": "code",
   "execution_count": 110,
   "id": "e766429d",
   "metadata": {},
   "outputs": [],
   "source": [
    "@tvm.script.ir_module\n",
    "class TargetModule:\n",
    "    @T.prim_func\n",
    "    def bmm_relu(A: T.Buffer((16, 128, 128), \"float32\"), B: T.Buffer((16, 128, 128), \"float32\"), C: T.Buffer((16, 128, 128), \"float32\")) -> None: # type: ignore\n",
    "        T.func_attr({\"global_symbol\": \"bmm_relu\", \"tir.noalias\": True})\n",
    "        Y = T.alloc_buffer([16, 128, 128], dtype=\"float32\")\n",
    "        for i0 in T.parallel(16):\n",
    "            for i1, i2_0 in T.grid(128, 16):\n",
    "                for ax0_init in T.vectorized(8):\n",
    "                    with T.block(\"Y_init\"):\n",
    "                        n, i = T.axis.remap(\"SS\", [i0, i1])\n",
    "                        j = T.axis.spatial(128, i2_0 * 8 + ax0_init)\n",
    "                        Y[n, i, j] = T.float32(0)\n",
    "                for ax1_0 in T.serial(32):\n",
    "                    for ax1_1 in T.unroll(4):\n",
    "                        for ax0 in T.serial(8):\n",
    "                            with T.block(\"Y_update\"):\n",
    "                                n, i = T.axis.remap(\"SS\", [i0, i1])\n",
    "                                j = T.axis.spatial(128, i2_0 * 8 + ax0)\n",
    "                                k = T.axis.reduce(128, ax1_0 * 4 + ax1_1)\n",
    "                                Y[n, i, j] = Y[n, i, j] + A[n, i, k] * B[n, k, j]\n",
    "                for i2_1 in T.vectorized(8):\n",
    "                    with T.block(\"C\"):\n",
    "                        n, i = T.axis.remap(\"SS\", [i0, i1])\n",
    "                        j = T.axis.spatial(128, i2_0 * 8 + i2_1)\n",
    "                        C[n, i, j] = T.max(Y[n, i, j], T.float32(0))"
   ]
  },
  {
   "cell_type": "code",
   "execution_count": 197,
   "id": "580921b1",
   "metadata": {},
   "outputs": [
    {
     "name": "stdout",
     "output_type": "stream",
     "text": [
      "Pass\n"
     ]
    },
    {
     "data": {
      "text/html": [
       "<style>pre { line-height: 125%; }\n",
       "td.linenos .normal { color: #6e7681; background-color: #0d1117; padding-left: 5px; padding-right: 5px; }\n",
       "span.linenos { color: #6e7681; background-color: #0d1117; padding-left: 5px; padding-right: 5px; }\n",
       "td.linenos .special { color: #e6edf3; background-color: #6e7681; padding-left: 5px; padding-right: 5px; }\n",
       "span.linenos.special { color: #e6edf3; background-color: #6e7681; padding-left: 5px; padding-right: 5px; }\n",
       ".highlight .hll { background-color: #6e7681 }\n",
       ".highlight { background: #0d1117; color: #E6EDF3 }\n",
       ".highlight .c { color: #8B949E; font-style: italic } /* Comment */\n",
       ".highlight .err { color: #F85149 } /* Error */\n",
       ".highlight .esc { color: #E6EDF3 } /* Escape */\n",
       ".highlight .g { color: #E6EDF3 } /* Generic */\n",
       ".highlight .k { color: #FF7B72 } /* Keyword */\n",
       ".highlight .l { color: #A5D6FF } /* Literal */\n",
       ".highlight .n { color: #E6EDF3 } /* Name */\n",
       ".highlight .o { color: #FF7B72; font-weight: bold } /* Operator */\n",
       ".highlight .x { color: #E6EDF3 } /* Other */\n",
       ".highlight .p { color: #E6EDF3 } /* Punctuation */\n",
       ".highlight .ch { color: #8B949E; font-style: italic } /* Comment.Hashbang */\n",
       ".highlight .cm { color: #8B949E; font-style: italic } /* Comment.Multiline */\n",
       ".highlight .cp { color: #8B949E; font-weight: bold; font-style: italic } /* Comment.Preproc */\n",
       ".highlight .cpf { color: #8B949E; font-style: italic } /* Comment.PreprocFile */\n",
       ".highlight .c1 { color: #8B949E; font-style: italic } /* Comment.Single */\n",
       ".highlight .cs { color: #8B949E; font-weight: bold; font-style: italic } /* Comment.Special */\n",
       ".highlight .gd { color: #FFA198; background-color: #490202 } /* Generic.Deleted */\n",
       ".highlight .ge { color: #E6EDF3; font-style: italic } /* Generic.Emph */\n",
       ".highlight .ges { color: #E6EDF3; font-weight: bold; font-style: italic } /* Generic.EmphStrong */\n",
       ".highlight .gr { color: #FFA198 } /* Generic.Error */\n",
       ".highlight .gh { color: #79C0FF; font-weight: bold } /* Generic.Heading */\n",
       ".highlight .gi { color: #56D364; background-color: #0F5323 } /* Generic.Inserted */\n",
       ".highlight .go { color: #8B949E } /* Generic.Output */\n",
       ".highlight .gp { color: #8B949E } /* Generic.Prompt */\n",
       ".highlight .gs { color: #E6EDF3; font-weight: bold } /* Generic.Strong */\n",
       ".highlight .gu { color: #79C0FF } /* Generic.Subheading */\n",
       ".highlight .gt { color: #FF7B72 } /* Generic.Traceback */\n",
       ".highlight .g-Underline { color: #E6EDF3; text-decoration: underline } /* Generic.Underline */\n",
       ".highlight .kc { color: #79C0FF } /* Keyword.Constant */\n",
       ".highlight .kd { color: #FF7B72 } /* Keyword.Declaration */\n",
       ".highlight .kn { color: #FF7B72 } /* Keyword.Namespace */\n",
       ".highlight .kp { color: #79C0FF } /* Keyword.Pseudo */\n",
       ".highlight .kr { color: #FF7B72 } /* Keyword.Reserved */\n",
       ".highlight .kt { color: #FF7B72 } /* Keyword.Type */\n",
       ".highlight .ld { color: #79C0FF } /* Literal.Date */\n",
       ".highlight .m { color: #A5D6FF } /* Literal.Number */\n",
       ".highlight .s { color: #A5D6FF } /* Literal.String */\n",
       ".highlight .na { color: #E6EDF3 } /* Name.Attribute */\n",
       ".highlight .nb { color: #E6EDF3 } /* Name.Builtin */\n",
       ".highlight .nc { color: #F0883E; font-weight: bold } /* Name.Class */\n",
       ".highlight .no { color: #79C0FF; font-weight: bold } /* Name.Constant */\n",
       ".highlight .nd { color: #D2A8FF; font-weight: bold } /* Name.Decorator */\n",
       ".highlight .ni { color: #FFA657 } /* Name.Entity */\n",
       ".highlight .ne { color: #F0883E; font-weight: bold } /* Name.Exception */\n",
       ".highlight .nf { color: #D2A8FF; font-weight: bold } /* Name.Function */\n",
       ".highlight .nl { color: #79C0FF; font-weight: bold } /* Name.Label */\n",
       ".highlight .nn { color: #FF7B72 } /* Name.Namespace */\n",
       ".highlight .nx { color: #E6EDF3 } /* Name.Other */\n",
       ".highlight .py { color: #79C0FF } /* Name.Property */\n",
       ".highlight .nt { color: #7EE787 } /* Name.Tag */\n",
       ".highlight .nv { color: #79C0FF } /* Name.Variable */\n",
       ".highlight .ow { color: #FF7B72; font-weight: bold } /* Operator.Word */\n",
       ".highlight .pm { color: #E6EDF3 } /* Punctuation.Marker */\n",
       ".highlight .w { color: #6E7681 } /* Text.Whitespace */\n",
       ".highlight .mb { color: #A5D6FF } /* Literal.Number.Bin */\n",
       ".highlight .mf { color: #A5D6FF } /* Literal.Number.Float */\n",
       ".highlight .mh { color: #A5D6FF } /* Literal.Number.Hex */\n",
       ".highlight .mi { color: #A5D6FF } /* Literal.Number.Integer */\n",
       ".highlight .mo { color: #A5D6FF } /* Literal.Number.Oct */\n",
       ".highlight .sa { color: #79C0FF } /* Literal.String.Affix */\n",
       ".highlight .sb { color: #A5D6FF } /* Literal.String.Backtick */\n",
       ".highlight .sc { color: #A5D6FF } /* Literal.String.Char */\n",
       ".highlight .dl { color: #79C0FF } /* Literal.String.Delimiter */\n",
       ".highlight .sd { color: #A5D6FF } /* Literal.String.Doc */\n",
       ".highlight .s2 { color: #A5D6FF } /* Literal.String.Double */\n",
       ".highlight .se { color: #79C0FF } /* Literal.String.Escape */\n",
       ".highlight .sh { color: #79C0FF } /* Literal.String.Heredoc */\n",
       ".highlight .si { color: #A5D6FF } /* Literal.String.Interpol */\n",
       ".highlight .sx { color: #A5D6FF } /* Literal.String.Other */\n",
       ".highlight .sr { color: #79C0FF } /* Literal.String.Regex */\n",
       ".highlight .s1 { color: #A5D6FF } /* Literal.String.Single */\n",
       ".highlight .ss { color: #A5D6FF } /* Literal.String.Symbol */\n",
       ".highlight .bp { color: #E6EDF3 } /* Name.Builtin.Pseudo */\n",
       ".highlight .fm { color: #D2A8FF; font-weight: bold } /* Name.Function.Magic */\n",
       ".highlight .vc { color: #79C0FF } /* Name.Variable.Class */\n",
       ".highlight .vg { color: #79C0FF } /* Name.Variable.Global */\n",
       ".highlight .vi { color: #79C0FF } /* Name.Variable.Instance */\n",
       ".highlight .vm { color: #79C0FF } /* Name.Variable.Magic */\n",
       ".highlight .il { color: #A5D6FF } /* Literal.Number.Integer.Long */</style><div class=\"highlight\"><pre><span></span><span class=\"c1\"># from tvm.script import ir as I</span>\n",
       "<span class=\"c1\"># from tvm.script import tir as T</span>\n",
       "\n",
       "<span class=\"nd\">@I</span><span class=\"o\">.</span><span class=\"n\">ir_module</span>\n",
       "<span class=\"k\">class</span><span class=\"w\"> </span><span class=\"nc\">Module</span><span class=\"p\">:</span>\n",
       "    <span class=\"nd\">@T</span><span class=\"o\">.</span><span class=\"n\">prim_func</span>\n",
       "    <span class=\"k\">def</span><span class=\"w\"> </span><span class=\"nf\">bmm_relu</span><span class=\"p\">(</span><span class=\"n\">A</span><span class=\"p\">:</span> <span class=\"n\">T</span><span class=\"o\">.</span><span class=\"n\">Buffer</span><span class=\"p\">((</span><span class=\"mi\">16</span><span class=\"p\">,</span> <span class=\"mi\">128</span><span class=\"p\">,</span> <span class=\"mi\">128</span><span class=\"p\">),</span> <span class=\"s2\">&quot;float32&quot;</span><span class=\"p\">),</span> <span class=\"n\">B</span><span class=\"p\">:</span> <span class=\"n\">T</span><span class=\"o\">.</span><span class=\"n\">Buffer</span><span class=\"p\">((</span><span class=\"mi\">16</span><span class=\"p\">,</span> <span class=\"mi\">128</span><span class=\"p\">,</span> <span class=\"mi\">128</span><span class=\"p\">),</span> <span class=\"s2\">&quot;float32&quot;</span><span class=\"p\">),</span> <span class=\"n\">C</span><span class=\"p\">:</span> <span class=\"n\">T</span><span class=\"o\">.</span><span class=\"n\">Buffer</span><span class=\"p\">((</span><span class=\"mi\">16</span><span class=\"p\">,</span> <span class=\"mi\">128</span><span class=\"p\">,</span> <span class=\"mi\">128</span><span class=\"p\">),</span> <span class=\"s2\">&quot;float32&quot;</span><span class=\"p\">)):</span>\n",
       "        <span class=\"n\">T</span><span class=\"o\">.</span><span class=\"n\">func_attr</span><span class=\"p\">({</span><span class=\"s2\">&quot;tir.noalias&quot;</span><span class=\"p\">:</span> <span class=\"n\">T</span><span class=\"o\">.</span><span class=\"n\">bool</span><span class=\"p\">(</span><span class=\"kc\">True</span><span class=\"p\">)})</span>\n",
       "        <span class=\"c1\"># with T.block(&quot;root&quot;):</span>\n",
       "        <span class=\"n\">Y</span> <span class=\"o\">=</span> <span class=\"n\">T</span><span class=\"o\">.</span><span class=\"n\">alloc_buffer</span><span class=\"p\">((</span><span class=\"mi\">16</span><span class=\"p\">,</span> <span class=\"mi\">128</span><span class=\"p\">,</span> <span class=\"mi\">128</span><span class=\"p\">))</span>\n",
       "        <span class=\"k\">for</span> <span class=\"n\">i0</span> <span class=\"ow\">in</span> <span class=\"n\">T</span><span class=\"o\">.</span><span class=\"n\">parallel</span><span class=\"p\">(</span><span class=\"mi\">16</span><span class=\"p\">):</span>\n",
       "            <span class=\"k\">for</span> <span class=\"n\">i1</span><span class=\"p\">,</span> <span class=\"n\">i2_0</span> <span class=\"ow\">in</span> <span class=\"n\">T</span><span class=\"o\">.</span><span class=\"n\">grid</span><span class=\"p\">(</span><span class=\"mi\">128</span><span class=\"p\">,</span> <span class=\"mi\">16</span><span class=\"p\">):</span>\n",
       "                <span class=\"k\">for</span> <span class=\"n\">ax0_init</span> <span class=\"ow\">in</span> <span class=\"n\">T</span><span class=\"o\">.</span><span class=\"n\">vectorized</span><span class=\"p\">(</span><span class=\"mi\">8</span><span class=\"p\">):</span>\n",
       "                    <span class=\"k\">with</span> <span class=\"n\">T</span><span class=\"o\">.</span><span class=\"n\">block</span><span class=\"p\">(</span><span class=\"s2\">&quot;Y_init&quot;</span><span class=\"p\">):</span>\n",
       "                        <span class=\"n\">n</span><span class=\"p\">,</span> <span class=\"n\">i</span> <span class=\"o\">=</span> <span class=\"n\">T</span><span class=\"o\">.</span><span class=\"n\">axis</span><span class=\"o\">.</span><span class=\"n\">remap</span><span class=\"p\">(</span><span class=\"s2\">&quot;SS&quot;</span><span class=\"p\">,</span> <span class=\"p\">[</span><span class=\"n\">i0</span><span class=\"p\">,</span> <span class=\"n\">i1</span><span class=\"p\">])</span>\n",
       "                        <span class=\"n\">j</span> <span class=\"o\">=</span> <span class=\"n\">T</span><span class=\"o\">.</span><span class=\"n\">axis</span><span class=\"o\">.</span><span class=\"n\">spatial</span><span class=\"p\">(</span><span class=\"mi\">128</span><span class=\"p\">,</span> <span class=\"n\">i2_0</span> <span class=\"o\">*</span> <span class=\"mi\">8</span> <span class=\"o\">+</span> <span class=\"n\">ax0_init</span><span class=\"p\">)</span>\n",
       "                        <span class=\"n\">T</span><span class=\"o\">.</span><span class=\"n\">reads</span><span class=\"p\">()</span>\n",
       "                        <span class=\"n\">T</span><span class=\"o\">.</span><span class=\"n\">writes</span><span class=\"p\">(</span><span class=\"n\">Y</span><span class=\"p\">[</span><span class=\"n\">n</span><span class=\"p\">,</span> <span class=\"n\">i</span><span class=\"p\">,</span> <span class=\"n\">j</span><span class=\"p\">])</span>\n",
       "                        <span class=\"n\">Y</span><span class=\"p\">[</span><span class=\"n\">n</span><span class=\"p\">,</span> <span class=\"n\">i</span><span class=\"p\">,</span> <span class=\"n\">j</span><span class=\"p\">]</span> <span class=\"o\">=</span> <span class=\"n\">T</span><span class=\"o\">.</span><span class=\"n\">float32</span><span class=\"p\">(</span><span class=\"mf\">0.0</span><span class=\"p\">)</span>\n",
       "                <span class=\"k\">for</span> <span class=\"n\">ax1_0</span> <span class=\"ow\">in</span> <span class=\"nb\">range</span><span class=\"p\">(</span><span class=\"mi\">32</span><span class=\"p\">):</span>\n",
       "                    <span class=\"k\">for</span> <span class=\"n\">ax1_1</span> <span class=\"ow\">in</span> <span class=\"n\">T</span><span class=\"o\">.</span><span class=\"n\">unroll</span><span class=\"p\">(</span><span class=\"mi\">4</span><span class=\"p\">):</span>\n",
       "                        <span class=\"k\">for</span> <span class=\"n\">ax0</span> <span class=\"ow\">in</span> <span class=\"nb\">range</span><span class=\"p\">(</span><span class=\"mi\">8</span><span class=\"p\">):</span>\n",
       "                            <span class=\"k\">with</span> <span class=\"n\">T</span><span class=\"o\">.</span><span class=\"n\">block</span><span class=\"p\">(</span><span class=\"s2\">&quot;Y_update&quot;</span><span class=\"p\">):</span>\n",
       "                                <span class=\"n\">n</span><span class=\"p\">,</span> <span class=\"n\">i</span> <span class=\"o\">=</span> <span class=\"n\">T</span><span class=\"o\">.</span><span class=\"n\">axis</span><span class=\"o\">.</span><span class=\"n\">remap</span><span class=\"p\">(</span><span class=\"s2\">&quot;SS&quot;</span><span class=\"p\">,</span> <span class=\"p\">[</span><span class=\"n\">i0</span><span class=\"p\">,</span> <span class=\"n\">i1</span><span class=\"p\">])</span>\n",
       "                                <span class=\"n\">j</span> <span class=\"o\">=</span> <span class=\"n\">T</span><span class=\"o\">.</span><span class=\"n\">axis</span><span class=\"o\">.</span><span class=\"n\">spatial</span><span class=\"p\">(</span><span class=\"mi\">128</span><span class=\"p\">,</span> <span class=\"n\">i2_0</span> <span class=\"o\">*</span> <span class=\"mi\">8</span> <span class=\"o\">+</span> <span class=\"n\">ax0</span><span class=\"p\">)</span>\n",
       "                                <span class=\"n\">k</span> <span class=\"o\">=</span> <span class=\"n\">T</span><span class=\"o\">.</span><span class=\"n\">axis</span><span class=\"o\">.</span><span class=\"n\">reduce</span><span class=\"p\">(</span><span class=\"mi\">128</span><span class=\"p\">,</span> <span class=\"n\">ax1_0</span> <span class=\"o\">*</span> <span class=\"mi\">4</span> <span class=\"o\">+</span> <span class=\"n\">ax1_1</span><span class=\"p\">)</span>\n",
       "                                <span class=\"n\">T</span><span class=\"o\">.</span><span class=\"n\">reads</span><span class=\"p\">(</span><span class=\"n\">Y</span><span class=\"p\">[</span><span class=\"n\">n</span><span class=\"p\">,</span> <span class=\"n\">i</span><span class=\"p\">,</span> <span class=\"n\">j</span><span class=\"p\">],</span> <span class=\"n\">A</span><span class=\"p\">[</span><span class=\"n\">n</span><span class=\"p\">,</span> <span class=\"n\">i</span><span class=\"p\">,</span> <span class=\"n\">k</span><span class=\"p\">],</span> <span class=\"n\">B</span><span class=\"p\">[</span><span class=\"n\">n</span><span class=\"p\">,</span> <span class=\"n\">k</span><span class=\"p\">,</span> <span class=\"n\">j</span><span class=\"p\">])</span>\n",
       "                                <span class=\"n\">T</span><span class=\"o\">.</span><span class=\"n\">writes</span><span class=\"p\">(</span><span class=\"n\">Y</span><span class=\"p\">[</span><span class=\"n\">n</span><span class=\"p\">,</span> <span class=\"n\">i</span><span class=\"p\">,</span> <span class=\"n\">j</span><span class=\"p\">])</span>\n",
       "                                <span class=\"n\">Y</span><span class=\"p\">[</span><span class=\"n\">n</span><span class=\"p\">,</span> <span class=\"n\">i</span><span class=\"p\">,</span> <span class=\"n\">j</span><span class=\"p\">]</span> <span class=\"o\">=</span> <span class=\"n\">Y</span><span class=\"p\">[</span><span class=\"n\">n</span><span class=\"p\">,</span> <span class=\"n\">i</span><span class=\"p\">,</span> <span class=\"n\">j</span><span class=\"p\">]</span> <span class=\"o\">+</span> <span class=\"n\">A</span><span class=\"p\">[</span><span class=\"n\">n</span><span class=\"p\">,</span> <span class=\"n\">i</span><span class=\"p\">,</span> <span class=\"n\">k</span><span class=\"p\">]</span> <span class=\"o\">*</span> <span class=\"n\">B</span><span class=\"p\">[</span><span class=\"n\">n</span><span class=\"p\">,</span> <span class=\"n\">k</span><span class=\"p\">,</span> <span class=\"n\">j</span><span class=\"p\">]</span>\n",
       "                <span class=\"k\">for</span> <span class=\"n\">i2_1</span> <span class=\"ow\">in</span> <span class=\"n\">T</span><span class=\"o\">.</span><span class=\"n\">vectorized</span><span class=\"p\">(</span><span class=\"mi\">8</span><span class=\"p\">):</span>\n",
       "                    <span class=\"k\">with</span> <span class=\"n\">T</span><span class=\"o\">.</span><span class=\"n\">block</span><span class=\"p\">(</span><span class=\"s2\">&quot;C&quot;</span><span class=\"p\">):</span>\n",
       "                        <span class=\"n\">n</span><span class=\"p\">,</span> <span class=\"n\">i</span> <span class=\"o\">=</span> <span class=\"n\">T</span><span class=\"o\">.</span><span class=\"n\">axis</span><span class=\"o\">.</span><span class=\"n\">remap</span><span class=\"p\">(</span><span class=\"s2\">&quot;SS&quot;</span><span class=\"p\">,</span> <span class=\"p\">[</span><span class=\"n\">i0</span><span class=\"p\">,</span> <span class=\"n\">i1</span><span class=\"p\">])</span>\n",
       "                        <span class=\"n\">j</span> <span class=\"o\">=</span> <span class=\"n\">T</span><span class=\"o\">.</span><span class=\"n\">axis</span><span class=\"o\">.</span><span class=\"n\">spatial</span><span class=\"p\">(</span><span class=\"mi\">128</span><span class=\"p\">,</span> <span class=\"n\">i2_0</span> <span class=\"o\">*</span> <span class=\"mi\">8</span> <span class=\"o\">+</span> <span class=\"n\">i2_1</span><span class=\"p\">)</span>\n",
       "                        <span class=\"n\">T</span><span class=\"o\">.</span><span class=\"n\">reads</span><span class=\"p\">(</span><span class=\"n\">Y</span><span class=\"p\">[</span><span class=\"n\">n</span><span class=\"p\">,</span> <span class=\"n\">i</span><span class=\"p\">,</span> <span class=\"n\">j</span><span class=\"p\">])</span>\n",
       "                        <span class=\"n\">T</span><span class=\"o\">.</span><span class=\"n\">writes</span><span class=\"p\">(</span><span class=\"n\">C</span><span class=\"p\">[</span><span class=\"n\">n</span><span class=\"p\">,</span> <span class=\"n\">i</span><span class=\"p\">,</span> <span class=\"n\">j</span><span class=\"p\">])</span>\n",
       "                        <span class=\"n\">C</span><span class=\"p\">[</span><span class=\"n\">n</span><span class=\"p\">,</span> <span class=\"n\">i</span><span class=\"p\">,</span> <span class=\"n\">j</span><span class=\"p\">]</span> <span class=\"o\">=</span> <span class=\"n\">T</span><span class=\"o\">.</span><span class=\"n\">max</span><span class=\"p\">(</span><span class=\"n\">Y</span><span class=\"p\">[</span><span class=\"n\">n</span><span class=\"p\">,</span> <span class=\"n\">i</span><span class=\"p\">,</span> <span class=\"n\">j</span><span class=\"p\">],</span> <span class=\"n\">T</span><span class=\"o\">.</span><span class=\"n\">float32</span><span class=\"p\">(</span><span class=\"mf\">0.0</span><span class=\"p\">))</span>\n",
       "</pre></div>\n",
       "\n"
      ],
      "text/plain": [
       "<IPython.core.display.HTML object>"
      ]
     },
     "execution_count": 197,
     "metadata": {},
     "output_type": "execute_result"
    }
   ],
   "source": [
    "@tvm.script.ir_module\n",
    "class MyBmmRelu:\n",
    "\t@T.prim_func\n",
    "\tdef bmm_relu(A: T.Buffer((16, 128, 128), \"float32\"), # type: ignore\n",
    "\t\t\t\t B: T.Buffer((16, 128, 128), \"float32\"), # type: ignore\n",
    "\t\t\t\t C: T.Buffer((16, 128, 128), \"float32\")): # type: ignore\n",
    "\t\tT.func_attr({\"global_symbol\": \"bmm_relu\", \"tir.noalias\": True}) # type: ignore\n",
    "\t\tY = T.alloc_buffer([16, 128, 128], dtype=\"float32\")\n",
    "\t\tfor i0, i1, i2, i3 in T.grid(16, 128, 128, 128):\n",
    "\t\t\twith T.block(\"Y\"):\n",
    "\t\t\t\tn, i, j, k = T.axis.remap(\"SSSR\", [i0, i1, i2, i3])\n",
    "\t\t\t\twith T.init():\n",
    "\t\t\t\t\tY[n, i, j] = T.float32(0)\n",
    "\t\t\t\tY[n, i, j] += A[n, i, k] * B[n, k, j]\n",
    "\t\tfor i0, i1, i2 in T.grid(16, 128, 128):\n",
    "\t\t\twith T.block(\"C\"):\n",
    "\t\t\t\tn, i, j = T.axis.remap(\"SSS\", [i0, i1, i2])\n",
    "\t\t\t\tC[n, i, j] = T.max(Y[n, i, j], T.float32(0))\n",
    "\n",
    "sch = tvm.tir.Schedule(MyBmmRelu)\n",
    "block_C = sch.get_block(\"C\", func_name=\"bmm_relu\")\n",
    "block_Y = sch.get_block(\"Y\", func_name=\"bmm_relu\")\n",
    "\n",
    "bc, ic, jc = sch.get_loops(block_C)\n",
    "\n",
    "j0, j1 = sch.split(jc, factors=[None, 8])\n",
    "sch.compute_at(block_Y, j0)\n",
    "\n",
    "sch.parallel(bc)\n",
    "sch.vectorize(j1)\n",
    "\n",
    "b, i, j0, j1, k = sch.get_loops(block_Y)\n",
    "sch.reorder(k, j1)\n",
    "k0, k1 = sch.split(k, factors=[None, 4])\n",
    "sch.decompose_reduction(block_Y, k0)\n",
    "\n",
    "block_Y_init = sch.get_block(\"Y_init\", func_name=\"bmm_relu\")\n",
    "block_Y_update = sch.get_block(\"Y_update\", func_name=\"bmm_relu\")\n",
    "\n",
    "bi, ii, ji0, ji1 = sch.get_loops(block_Y_init)\n",
    "sch.vectorize(ji1)\n",
    "\n",
    "bu, iu, ju0, ju1, k0, k1 = sch.get_loops(block_Y_update)\n",
    "sch.unroll(k0)\n",
    "\n",
    "tvm.ir.assert_structural_equal(sch.mod, TargetModule)\n",
    "print(\"Pass\")\n",
    "IPython.display.HTML(code2html(sch.mod.script()))"
   ]
  },
  {
   "cell_type": "code",
   "execution_count": 198,
   "id": "fb5f8aa3",
   "metadata": {},
   "outputs": [
    {
     "name": "stdout",
     "output_type": "stream",
     "text": [
      "Before transformation:\n",
      "Execution time summary:\n",
      " mean (ms)   median (ms)    max (ms)     min (ms)     std (ms)  \n",
      "  12.1840      12.1840      12.1840      12.1840       0.0000                  \n",
      "After transformation:\n",
      "Execution time summary:\n",
      " mean (ms)   median (ms)    max (ms)     min (ms)     std (ms)  \n",
      "   0.6562       0.6562       0.6562       0.6562       0.0000                  \n"
     ]
    }
   ],
   "source": [
    "before_rt_lib = tvm.build(MyBmmRelu, target=\"llvm\")\n",
    "after_rt_lib = tvm.build(sch.mod, target=\"llvm\")\n",
    "a_tvm = tvm.nd.array(np.random.rand(16, 128, 128).astype(\"float32\"))\n",
    "b_tvm = tvm.nd.array(np.random.rand(16, 128, 128).astype(\"float32\"))\n",
    "c_tvm = tvm.nd.array(np.random.rand(16, 128, 128).astype(\"float32\"))\n",
    "after_rt_lib[\"bmm_relu\"](a_tvm, b_tvm, c_tvm)\n",
    "before_timer = before_rt_lib.time_evaluator(\"bmm_relu\", tvm.cpu())\n",
    "print(\"Before transformation:\")\n",
    "print(before_timer(a_tvm, b_tvm, c_tvm))\n",
    "\n",
    "f_timer = after_rt_lib.time_evaluator(\"bmm_relu\", tvm.cpu())\n",
    "print(\"After transformation:\")\n",
    "print(f_timer(a_tvm, b_tvm, c_tvm))"
   ]
  },
  {
   "cell_type": "code",
   "execution_count": 202,
   "id": "90749083",
   "metadata": {},
   "outputs": [],
   "source": [
    "@tvm.script.ir_module\n",
    "class MyModule:\n",
    "    @T.prim_func\n",
    "    def mm_relu(A: T.Buffer((128, 128), \"float32\"), # type: ignore\n",
    "                B: T.Buffer((128, 128), \"float32\"), # type: ignore\n",
    "                C: T.Buffer((128, 128), \"float32\")): # type: ignore\n",
    "        T.func_attr({\"global_symbol\": \"mm_relu\", \"tir.noalias\": True})\n",
    "        Y = T.alloc_buffer((128, 128), dtype=\"float32\")\n",
    "        for i, j, k in T.grid(128, 128, 128):\n",
    "            with T.block(\"Y\"):\n",
    "                vi = T.axis.spatial(128, i)\n",
    "                vj = T.axis.spatial(128, j)\n",
    "                vk = T.axis.reduce(128, k)\n",
    "                with T.init():\n",
    "                    Y[vi, vj] = T.float32(0)\n",
    "                Y[vi, vj] = Y[vi, vj] + A[vi, vk] * B[vk, vj]\n",
    "        for i, j in T.grid(128, 128):\n",
    "            with T.block(\"C\"):\n",
    "                vi = T.axis.spatial(128, i)\n",
    "                vj = T.axis.spatial(128, j)\n",
    "                C[vi, vj] = T.max(Y[vi, vj], T.float32(0))"
   ]
  },
  {
   "cell_type": "code",
   "execution_count": 236,
   "id": "bdd60127",
   "metadata": {},
   "outputs": [],
   "source": [
    "def transform(mod, jfactor):\n",
    "    sch = tvm.tir.Schedule(mod)\n",
    "    block_Y = sch.get_block(\"Y\", func_name=\"mm_relu\")\n",
    "    i, j, k = sch.get_loops(block_Y)\n",
    "    j0, j1 = sch.split(j, factors=[None, jfactor])\n",
    "    sch.reorder(j0, k, j1)\n",
    "    block_C = sch.get_block(\"C\", \"mm_relu\")\n",
    "    sch.reverse_compute_at(block_C, j0)\n",
    "    return sch.mod\n",
    "\n",
    "def testj(jfactor, a_nd, b_nd, c_nd):\n",
    "    mod_transformed = transform(MyModule, jfactor=jfactor)\n",
    "\n",
    "    rt_lib_transformed = tvm.build(mod_transformed, \"llvm\")\n",
    "    f_timer_transformed = rt_lib_transformed.time_evaluator(\"mm_relu\", tvm.cpu())\n",
    "    print(\"Time cost of transformed mod_transformed for jfactor %i %g sec\" % (jfactor, f_timer_transformed(a_nd, b_nd, c_nd).mean))\n",
    "    # display the code below\n",
    "    IPython.display.HTML(code2html(mod_transformed.script()))"
   ]
  },
  {
   "cell_type": "code",
   "execution_count": 242,
   "id": "02deba65",
   "metadata": {},
   "outputs": [
    {
     "name": "stdout",
     "output_type": "stream",
     "text": [
      "Time cost of transformed mod_transformed for jfactor 2 0.000454409 sec\n",
      "Time cost of transformed mod_transformed for jfactor 4 0.000213332 sec\n",
      "Time cost of transformed mod_transformed for jfactor 8 0.000139546 sec\n",
      "Time cost of transformed mod_transformed for jfactor 16 0.000113309 sec\n",
      "Time cost of transformed mod_transformed for jfactor 32 9.04959e-05 sec\n",
      "Time cost of transformed mod_transformed for jfactor 64 0.000106782 sec\n",
      "Time cost of transformed mod_transformed for jfactor 128 0.000112312 sec\n"
     ]
    }
   ],
   "source": [
    "dtype = \"float32\"\n",
    "a_np = np.random.rand(128, 128).astype(dtype)\n",
    "b_np = np.random.rand(128, 128).astype(dtype)\n",
    "a_nd = tvm.nd.array(a_np)\n",
    "b_nd = tvm.nd.array(b_np)\n",
    "c_nd = tvm.nd.empty((128, 128), dtype=\"float32\")\n",
    "type(c_nd)\n",
    "\n",
    "for i in range(7):\n",
    "    testj(2**(i+1), a_nd, b_nd, c_nd)"
   ]
  }
 ],
 "metadata": {
  "kernelspec": {
   "display_name": "mlc",
   "language": "python",
   "name": "python3"
  },
  "language_info": {
   "codemirror_mode": {
    "name": "ipython",
    "version": 3
   },
   "file_extension": ".py",
   "mimetype": "text/x-python",
   "name": "python",
   "nbconvert_exporter": "python",
   "pygments_lexer": "ipython3",
   "version": "3.12.9"
  }
 },
 "nbformat": 4,
 "nbformat_minor": 5
}
